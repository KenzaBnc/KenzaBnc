{
  "cells": [
    {
      "cell_type": "markdown",
      "metadata": {
        "id": "view-in-github",
        "colab_type": "text"
      },
      "source": [
        "<a href=\"https://colab.research.google.com/github/KenzaBnc/KenzaBnc/blob/main/Pipeline_Final.ipynb\" target=\"_parent\"><img src=\"https://colab.research.google.com/assets/colab-badge.svg\" alt=\"Open In Colab\"/></a>"
      ]
    },
    {
      "cell_type": "markdown",
      "metadata": {
        "id": "dKt276wVCTP4"
      },
      "source": [
        "# ====== **PIPELINE STRUCTUREL A2A** ======\n",
        "\n",
        "### **Auteurs** : Kenza BENACHENHOU - Hyacinthe HLANNON - Nguessan NGBAIN - M1 Bioinformatique et Biologie des Systèmes\n",
        "\n",
        "### **Objectif** : Recherche de structures A2A, extraction de ligands, analyse structurale, visualisation PyMOL\n",
        "\n",
        "\n",
        "\n",
        "---\n"
      ]
    },
    {
      "cell_type": "markdown",
      "metadata": {
        "id": "2Mfes-w-CZW1"
      },
      "source": [
        "======= MODULES IMPORTÉS ======="
      ]
    },
    {
      "cell_type": "code",
      "execution_count": 2,
      "metadata": {
        "colab": {
          "base_uri": "https://localhost:8080/"
        },
        "id": "DOk5MhIoDntd",
        "outputId": "7c9ac10c-4905-475b-e155-fbffd65a3912"
      },
      "outputs": [
        {
          "output_type": "stream",
          "name": "stdout",
          "text": [
            "Collecting MDAnalysis\n",
            "  Downloading mdanalysis-2.9.0-cp311-cp311-manylinux_2_17_x86_64.manylinux2014_x86_64.whl.metadata (108 kB)\n",
            "\u001b[?25l     \u001b[90m━━━━━━━━━━━━━━━━━━━━━━━━━━━━━━━━━━━━━━━━\u001b[0m \u001b[32m0.0/108.7 kB\u001b[0m \u001b[31m?\u001b[0m eta \u001b[36m-:--:--\u001b[0m\r\u001b[2K     \u001b[91m━━━━━━━━━━━━━━━━━━━━━━━━━━━━━━━━━━━━\u001b[0m\u001b[91m╸\u001b[0m\u001b[90m━━\u001b[0m \u001b[32m102.4/108.7 kB\u001b[0m \u001b[31m3.8 MB/s\u001b[0m eta \u001b[36m0:00:01\u001b[0m\r\u001b[2K     \u001b[90m━━━━━━━━━━━━━━━━━━━━━━━━━━━━━━━━━━━━━━━\u001b[0m \u001b[32m108.7/108.7 kB\u001b[0m \u001b[31m2.7 MB/s\u001b[0m eta \u001b[36m0:00:00\u001b[0m\n",
            "\u001b[?25hRequirement already satisfied: numpy>=1.23.2 in /usr/local/lib/python3.11/dist-packages (from MDAnalysis) (2.0.2)\n",
            "Collecting GridDataFormats>=0.4.0 (from MDAnalysis)\n",
            "  Downloading GridDataFormats-1.0.2-py3-none-any.whl.metadata (4.9 kB)\n",
            "Collecting mmtf-python>=1.0.0 (from MDAnalysis)\n",
            "  Downloading mmtf_python-1.1.3-py2.py3-none-any.whl.metadata (1.2 kB)\n",
            "Requirement already satisfied: joblib>=0.12 in /usr/local/lib/python3.11/dist-packages (from MDAnalysis) (1.5.0)\n",
            "Requirement already satisfied: scipy>=1.5.0 in /usr/local/lib/python3.11/dist-packages (from MDAnalysis) (1.15.3)\n",
            "Requirement already satisfied: matplotlib>=1.5.1 in /usr/local/lib/python3.11/dist-packages (from MDAnalysis) (3.10.0)\n",
            "Requirement already satisfied: tqdm>=4.43.0 in /usr/local/lib/python3.11/dist-packages (from MDAnalysis) (4.67.1)\n",
            "Requirement already satisfied: threadpoolctl in /usr/local/lib/python3.11/dist-packages (from MDAnalysis) (3.6.0)\n",
            "Requirement already satisfied: packaging in /usr/local/lib/python3.11/dist-packages (from MDAnalysis) (24.2)\n",
            "Requirement already satisfied: filelock in /usr/local/lib/python3.11/dist-packages (from MDAnalysis) (3.18.0)\n",
            "Collecting mda-xdrlib (from MDAnalysis)\n",
            "  Downloading mda_xdrlib-0.2.0-py3-none-any.whl.metadata (19 kB)\n",
            "Collecting mrcfile (from GridDataFormats>=0.4.0->MDAnalysis)\n",
            "  Downloading mrcfile-1.5.4-py2.py3-none-any.whl.metadata (7.0 kB)\n",
            "Requirement already satisfied: contourpy>=1.0.1 in /usr/local/lib/python3.11/dist-packages (from matplotlib>=1.5.1->MDAnalysis) (1.3.2)\n",
            "Requirement already satisfied: cycler>=0.10 in /usr/local/lib/python3.11/dist-packages (from matplotlib>=1.5.1->MDAnalysis) (0.12.1)\n",
            "Requirement already satisfied: fonttools>=4.22.0 in /usr/local/lib/python3.11/dist-packages (from matplotlib>=1.5.1->MDAnalysis) (4.58.0)\n",
            "Requirement already satisfied: kiwisolver>=1.3.1 in /usr/local/lib/python3.11/dist-packages (from matplotlib>=1.5.1->MDAnalysis) (1.4.8)\n",
            "Requirement already satisfied: pillow>=8 in /usr/local/lib/python3.11/dist-packages (from matplotlib>=1.5.1->MDAnalysis) (11.2.1)\n",
            "Requirement already satisfied: pyparsing>=2.3.1 in /usr/local/lib/python3.11/dist-packages (from matplotlib>=1.5.1->MDAnalysis) (3.2.3)\n",
            "Requirement already satisfied: python-dateutil>=2.7 in /usr/local/lib/python3.11/dist-packages (from matplotlib>=1.5.1->MDAnalysis) (2.9.0.post0)\n",
            "Requirement already satisfied: msgpack>=1.0.0 in /usr/local/lib/python3.11/dist-packages (from mmtf-python>=1.0.0->MDAnalysis) (1.1.0)\n",
            "Requirement already satisfied: six>=1.5 in /usr/local/lib/python3.11/dist-packages (from python-dateutil>=2.7->matplotlib>=1.5.1->MDAnalysis) (1.17.0)\n",
            "Downloading mdanalysis-2.9.0-cp311-cp311-manylinux_2_17_x86_64.manylinux2014_x86_64.whl (13.0 MB)\n",
            "\u001b[2K   \u001b[90m━━━━━━━━━━━━━━━━━━━━━━━━━━━━━━━━━━━━━━━━\u001b[0m \u001b[32m13.0/13.0 MB\u001b[0m \u001b[31m87.1 MB/s\u001b[0m eta \u001b[36m0:00:00\u001b[0m\n",
            "\u001b[?25hDownloading GridDataFormats-1.0.2-py3-none-any.whl (2.1 MB)\n",
            "\u001b[2K   \u001b[90m━━━━━━━━━━━━━━━━━━━━━━━━━━━━━━━━━━━━━━━━\u001b[0m \u001b[32m2.1/2.1 MB\u001b[0m \u001b[31m73.1 MB/s\u001b[0m eta \u001b[36m0:00:00\u001b[0m\n",
            "\u001b[?25hDownloading mmtf_python-1.1.3-py2.py3-none-any.whl (25 kB)\n",
            "Downloading mda_xdrlib-0.2.0-py3-none-any.whl (14 kB)\n",
            "Downloading mrcfile-1.5.4-py2.py3-none-any.whl (45 kB)\n",
            "\u001b[2K   \u001b[90m━━━━━━━━━━━━━━━━━━━━━━━━━━━━━━━━━━━━━━━━\u001b[0m \u001b[32m45.0/45.0 kB\u001b[0m \u001b[31m3.4 MB/s\u001b[0m eta \u001b[36m0:00:00\u001b[0m\n",
            "\u001b[?25hInstalling collected packages: mrcfile, mmtf-python, mda-xdrlib, GridDataFormats, MDAnalysis\n",
            "Successfully installed GridDataFormats-1.0.2 MDAnalysis-2.9.0 mda-xdrlib-0.2.0 mmtf-python-1.1.3 mrcfile-1.5.4\n",
            "Collecting biopython\n",
            "  Downloading biopython-1.85-cp311-cp311-manylinux_2_17_x86_64.manylinux2014_x86_64.whl.metadata (13 kB)\n",
            "Requirement already satisfied: numpy in /usr/local/lib/python3.11/dist-packages (from biopython) (2.0.2)\n",
            "Downloading biopython-1.85-cp311-cp311-manylinux_2_17_x86_64.manylinux2014_x86_64.whl (3.3 MB)\n",
            "\u001b[2K   \u001b[90m━━━━━━━━━━━━━━━━━━━━━━━━━━━━━━━━━━━━━━━━\u001b[0m \u001b[32m3.3/3.3 MB\u001b[0m \u001b[31m29.4 MB/s\u001b[0m eta \u001b[36m0:00:00\u001b[0m\n",
            "\u001b[?25hInstalling collected packages: biopython\n",
            "Successfully installed biopython-1.85\n"
          ]
        }
      ],
      "source": [
        "!pip install MDAnalysis\n",
        "!pip install biopython"
      ]
    },
    {
      "cell_type": "code",
      "execution_count": 3,
      "metadata": {
        "id": "GJtqdb__Ck2Y",
        "colab": {
          "base_uri": "https://localhost:8080/"
        },
        "outputId": "eca5339f-e817-4ec5-ce19-075d85f87b6d"
      },
      "outputs": [
        {
          "output_type": "stream",
          "name": "stderr",
          "text": [
            "WARNING:MDAnalysis.coordinates.AMBER:netCDF4 is not available. Writing AMBER ncdf files will be slow.\n"
          ]
        }
      ],
      "source": [
        "import os\n",
        "import re\n",
        "import time\n",
        "import glob\n",
        "import requests\n",
        "import numpy as np\n",
        "import pandas as pd\n",
        "import matplotlib.pyplot as plt\n",
        "import seaborn as sns\n",
        "import MDAnalysis as mda\n",
        "from Bio.PDB import PDBList, PDBParser, MMCIFParser\n",
        "from scipy.stats import chi2_contingency"
      ]
    },
    {
      "cell_type": "markdown",
      "metadata": {
        "id": "deeaeZF3CZUm"
      },
      "source": [
        " ====== PARAMÈTRES GLOBAUX ======\n"
      ]
    },
    {
      "cell_type": "code",
      "execution_count": 4,
      "metadata": {
        "id": "5LsYpDlHClKS"
      },
      "outputs": [],
      "source": [
        "SEUILS_IDENTITE = [0.3, 0.4, 0.5, 0.6, 0.7]\n",
        "SEUIL_CONTACT = 5.0 #Angstroms\n",
        "SEUIL_CONSENSUS = 0.4 #40%\n",
        "RECEPTEUR_SEQ = \"MPIMGSSVYITVELAIAVLAILGNVLVCWAVWLNSNLQNVTNYFVVSLAAADIAVGVLAIPFAITISTGFCAACHGCLFIACFVLVLTQSSIFSLLAIAIDRYIAIRIPLRYNGLVTGTRAKGIIAICWVLSFAIGLTPMLGWNNCGQPKEGKNHSQGCGEGQVACLFEDVVPMNYMVYFNFFACVLVPLLLMLGVYLRIFLAARRQLKQMESQPLPGERARSTLQKEVHAAKSLAIIVGLFALCWLPLHIINCFTFFCPDCSHAPLWLMYLAIVLSHTNSVVNPFIYAYRIREFRQTFRKIIRSHVLRQQEPFKAAGTSARVLAAHGSDGEQVSLRLNGHPPGVWANGSAPHPERRPNGYALGLVSGGSAQESQGNTGLPDVELLSHELKGVCPEPPGLDDPLAQDGAGVS\"\n",
        "#Séquence du récepteur A2A\n"
      ]
    },
    {
      "cell_type": "markdown",
      "metadata": {
        "id": "1uk6qaNdCZQy"
      },
      "source": [
        "====== CATEGORISATION PAR MOTS-CLÉS ======"
      ]
    },
    {
      "cell_type": "code",
      "execution_count": 5,
      "metadata": {
        "id": "uohgKTDlCoUd"
      },
      "outputs": [],
      "source": [
        "categorie_mots_cles = [\n",
        "    (\"Nucleotide\", [\"adenosine\", \"guanosine\", \"cytidine\", \"uridine\", \"gmp\", \"atp\", \"utp\", \"ctp\", \"amp\", \"nucleotide\", \"purine\", \"pyrimidine\"]),\n",
        "    (\"Peptide\", [\"peptide\", \"dipeptide\", \"oligopeptide\", \"polypeptide\", \"biocytin\", \"glutathione\", \"amide-bonded\", \"lysyl\", \"glutamyl\", \"tripeptide\", \"tetrapeptide\", \"pentapeptide\", \"hexapeptide\", \"acetylated peptide\", \"linear peptide\", \"bonded peptide\"]),\n",
        "    (\"Amine\", [\"caffeine\", \"azanyl\", \"amine\", \"amino\", \"guanidine\", \"imidazole\", \"nh2\", \"thiazol\"]),\n",
        "    (\"Agoniste\", [\"agonist\", \"agoniste\", \"activator\", \"stimulator\"]),\n",
        "    (\"Antagoniste\", [\"antagonist\", \"antagoniste\", \"blocker\", \"zm241385\", \"istradefylline\", \"zm2\"]),\n",
        "    (\"Inhibiteur\", [\"inhibitor\", \"inhibiteur\"]),\n",
        "    (\"Sucre\", [\"glucose\", \"fructose\", \"sugar\", \"ose\", \"saccharide\", \"malto\"]),\n",
        "    (\"Aromatique\", [\"benz\", \"phenyl\", \"aromatic\", \"pyrid\", \"indole\", \"quinoline\"]),\n",
        "    (\"Alcool\", [\"ethanol\", \"propanol\", \"butanol\", \"methanol\", \"alcohol\", \"glycerol\"]),\n",
        "    (\"Ion\", [\"sodium\", \"potassium\", \"chloride\", \"na+\", \"k+\", \"cl-\", \"ca2+\", \"zn2+\", \"mg2+\", \"cu2+\"]),\n",
        "    (\"Solvant\", [\"detergent\", \"solvent\", \"triton\", \"digitonin\"]),\n",
        "    (\"Colorant\", [\"fluorescent\", \"dye\", \"fluorophore\", \"rhodamine\", \"fluorescein\"]),\n",
        "    (\"Triazole\", [\"triazole\", \"triazol\", \"triazine\"]),\n",
        "    (\"Acide\", [\"carboxy\", \"acid\", \"acetate\", \"oic\", \"carboxylate\"]),\n",
        "    (\"Cyane\", [\"cyano\", \"cyan\"]),\n",
        "    (\"Autre\", [\"compound\", \"substrate\", \"analog\"])\n",
        "]"
      ]
    },
    {
      "cell_type": "markdown",
      "metadata": {
        "id": "n8J_5GjLCZI_"
      },
      "source": [
        "====== FONCTIONS DÉFINIES ======"
      ]
    },
    {
      "cell_type": "code",
      "execution_count": 6,
      "metadata": {
        "id": "b2UWLgLYCyKG"
      },
      "outputs": [],
      "source": [
        "# === Fonction 1 : Recherche des structures PDB par seuil d'identité ===\n",
        "\n",
        "def search_pdb_by_sequence(sequence, identity):\n",
        "    url = \"https://search.rcsb.org/rcsbsearch/v2/query\"\n",
        "    query = {\n",
        "        \"query\": {\n",
        "            \"type\": \"group\",\n",
        "            \"logical_operator\": \"and\",\n",
        "            \"nodes\": [{\n",
        "                \"type\": \"terminal\",\n",
        "                \"service\": \"sequence\",\n",
        "                \"parameters\": {\n",
        "                    \"evalue_cutoff\": 1e-5,\n",
        "                    \"identity_cutoff\": identity,\n",
        "                    \"sequence_type\": \"protein\",\n",
        "                    \"value\": sequence\n",
        "                }\n",
        "            }]\n",
        "        },\n",
        "        \"request_options\": {\"paginate\": {\"start\": 0, \"rows\": 200}},\n",
        "        \"return_type\": \"entry\"\n",
        "    }\n",
        "    try:\n",
        "        response = requests.post(url, json=query, timeout=15)\n",
        "        response.raise_for_status()\n",
        "        data = response.json()\n",
        "        return list(set(d['identifier'] for d in data.get('result_set', [])))\n",
        "    except Exception as e:\n",
        "        print(f\"[Erreur API RCSB] {e}\")\n",
        "        return []"
      ]
    },
    {
      "cell_type": "code",
      "execution_count": 7,
      "metadata": {
        "id": "glDMjgSLvzZC"
      },
      "outputs": [],
      "source": [
        "# === Fonction 2 : Classification des protéines A2A vs autres ===\n",
        "\n",
        "def classify_pdb_ids(pdb_ids):\n",
        "    a2a, others = [], []\n",
        "    for pdb in pdb_ids:\n",
        "        try:\n",
        "            time.sleep(1)\n",
        "            html = requests.get(f\"https://www.rcsb.org/structure/{pdb}\", timeout=10).text.lower()\n",
        "            if \"a2a\" in html and (\"ligand\" in html or \"complex\" in html):\n",
        "                a2a.append(pdb)\n",
        "            else:\n",
        "                others.append(pdb)\n",
        "        except:\n",
        "            continue\n",
        "    return a2a, others"
      ]
    },
    {
      "cell_type": "code",
      "execution_count": 9,
      "metadata": {
        "id": "StRTYX9Dv3Qt"
      },
      "outputs": [],
      "source": [
        "# === Fonction 3 : Extraction des ligands via fichiers CIF (en mémoire) ===\n",
        "\n",
        "def extract_ligands_from_cif(pdb_ids):\n",
        "    ligands = set()\n",
        "    exclusions = {\"HOH\", \"DOD\", \"SO4\", \"NA\", \"CL\", \"K\", \"MG\", \"CA\", \"ZN\", \"MN\", \"CU\", \"FE\",\n",
        "                  \"SOG\", \"CLR\", \"OLB\", \"GDP\", \"NA\", \"OLC\", \"OLA\", \"TAR\", \"STE\", \"LMT\", \"PEG\", \"EDT\"}\n",
        "\n",
        "    # Motifs parasites fréquents dans les noms des résidus extraits à tort\n",
        "    motifs_parasites = [\"peptide linking\", \"l-peptide linking\", \"linking' y\"]\n",
        "\n",
        "    # Acides aminés classiques qu'on veut détecter dans les résidus\n",
        "    aa_terms = [\"glycine\", \"alanine\", \"valine\", \"leucine\", \"isoleucine\", \"serine\", \"threonine\",\n",
        "                \"cysteine\", \"methionine\", \"phenylalanine\", \"tyrosine\", \"tryptophan\", \"aspartic\",\n",
        "                \"glutamic\", \"asparagine\", \"glutamine\", \"lysine\", \"arginine\", \"histidine\",\n",
        "                \"proline\", \"asp\", \"glu\", \"asn\", \"gln\", \"lys\", \"arg\", \"his\", \"pro\", \"gly\",\n",
        "                \"val\", \"ile\", \"thr\", \"ser\", \"cys\", \"met\", \"phe\", \"trp\", \"tyr\"]\n",
        "\n",
        "    for pdb_id in pdb_ids:\n",
        "        try:\n",
        "            time.sleep(1)\n",
        "            url = f\"https://files.rcsb.org/download/{pdb_id}.cif\"\n",
        "            response = requests.get(url, timeout=10)\n",
        "            response.raise_for_status()\n",
        "            content = response.text\n",
        "            comp_blocks = re.findall(r\"_chem_comp.id\\s+(\\w+)\\s+_chem_comp.name\\s+'([^']+)'\", content)\n",
        "            if not comp_blocks:\n",
        "                inside_block = False\n",
        "                lines = content.splitlines()\n",
        "                header_indices = {}\n",
        "                data_start = None\n",
        "                for i, line in enumerate(lines):\n",
        "                    if line.strip() == \"loop_\":\n",
        "                        inside_block = False\n",
        "                    elif \"_chem_comp.id\" in line:\n",
        "                        inside_block = True\n",
        "                        header_indices['id'] = len(header_indices)\n",
        "                    elif \"_chem_comp.name\" in line:\n",
        "                        header_indices['name'] = len(header_indices)\n",
        "                    elif inside_block and line.strip() and not line.startswith(\"_\"):\n",
        "                        data_start = i\n",
        "                        break\n",
        "                if data_start is not None:\n",
        "                    for line in lines[data_start:]:\n",
        "                        if not line.strip() or line.startswith(\"_\") or line.startswith(\"loop_\"):\n",
        "                            break\n",
        "                        parts = line.strip().split(None, maxsplit=max(header_indices.values()))\n",
        "                        if len(parts) > max(header_indices.values()):\n",
        "                            comp_id = parts[header_indices['id']].strip().upper()\n",
        "                            name = parts[header_indices['name']].strip().lower()\n",
        "                            comp_blocks.append((comp_id, name))\n",
        "            for comp_id, name in comp_blocks:\n",
        "                comp_id = comp_id.upper()\n",
        "                name = name.strip().lower()\n",
        "                if comp_id in exclusions:\n",
        "                    continue\n",
        "                if any(motif in name for motif in motifs_parasites):\n",
        "                    continue\n",
        "                if re.search(r\"y\\s+(\" + \"|\".join(aa_terms) + \")\", name):\n",
        "                    continue\n",
        "                ligands.add((pdb_id.upper(), name, comp_id.lower()))\n",
        "        except Exception as e:\n",
        "            print(f\"[Erreur parsing {pdb_id}] {e}\")\n",
        "            continue\n",
        "    return list(ligands)"
      ]
    },
    {
      "cell_type": "code",
      "execution_count": 10,
      "metadata": {
        "id": "HXFIwJ-iv9t6"
      },
      "outputs": [],
      "source": [
        "# === Fonction 4 : Classification automatique par mots-clés ===\n",
        "\n",
        "def classer_ligand_par_mots(nom, lig_id=None):\n",
        "    nom = nom.lower()\n",
        "    lig_id = lig_id.lower() if lig_id else \"\"\n",
        "    for cat, mots in categorie_mots_cles:\n",
        "        if any(m in nom for m in mots):\n",
        "            return cat\n",
        "    return \"Inconnu\""
      ]
    },
    {
      "cell_type": "code",
      "execution_count": 11,
      "metadata": {
        "id": "s5v7OQxo1DTG"
      },
      "outputs": [],
      "source": [
        "# === ÉTAPE SUPPLÉMENTAIRE : STRUCTURES PAR CATÉGORIE ===\n",
        "def export_structures_par_categorie(input_csv=\"ligands_classifies_cif.csv\"):\n",
        "    df = pd.read_csv(input_csv)\n",
        "    df = df[df[\"Categorie\"].isin([\"Amine\", \"Nucleotide\"])]\n",
        "    df = df.drop_duplicates(subset=[\"Structure\", \"ID\", \"Nom\", \"Categorie\"])\n",
        "    df = df.sort_values(by=\"Structure\")\n",
        "    df.to_csv(\"ligands_amines_nucleotides.csv\", index=False)\n",
        "\n",
        "    ligand_df = df.copy()\n",
        "    pivot_df = ligand_df.pivot_table(index=\"Structure\", columns=\"Categorie\", aggfunc=\"size\", fill_value=0)\n",
        "\n",
        "    structures_nucleotides = pivot_df[pivot_df.get(\"Nucleotide\", 0) > 0].index.tolist()\n",
        "    structures_amines = pivot_df[pivot_df.get(\"Amine\", 0) > 0].index.tolist()\n",
        "    structures_mix = pivot_df[(pivot_df.get(\"Nucleotide\", 0) > 0) & (pivot_df.get(\"Amine\", 0) > 0)].index.tolist()\n",
        "\n",
        "    pd.DataFrame({\"PDB_ID\": structures_nucleotides}).to_csv(\"structures_nucleotides.csv\", index=False)\n",
        "    pd.DataFrame({\"PDB_ID\": structures_amines}).to_csv(\"structures_amines.csv\", index=False)\n",
        "    pd.DataFrame({\"PDB_ID\": structures_mix}).to_csv(\"structures_mix.csv\", index=False)\n",
        "\n",
        "    print(\"✅ Exports générés : structures_nucleotides.csv, structures_amines.csv, structures_mix.csv\")"
      ]
    },
    {
      "cell_type": "markdown",
      "metadata": {
        "id": "OgxS3iNQv_aR"
      },
      "source": [
        "====== MAIN PIPELINE (PARTIE 1) ======"
      ]
    },
    {
      "cell_type": "code",
      "execution_count": 24,
      "metadata": {
        "id": "1B5y5ePPv-47"
      },
      "outputs": [],
      "source": [
        "def main():\n",
        "    ligands_totaux = set()\n",
        "    for seuil in SEUILS_IDENTITE:\n",
        "        print(f\"\\n🔍 Seuil {seuil}\")\n",
        "        pdb_ids = search_pdb_by_sequence(RECEPTEUR_SEQ, seuil)\n",
        "        print(f\"→ {len(pdb_ids)} structures récupérées\")\n",
        "        a2a_pdbs, _ = classify_pdb_ids(pdb_ids)\n",
        "        print(f\"✅ {len(a2a_pdbs)} identifiées comme A2A\")\n",
        "        ligands = extract_ligands_from_cif(a2a_pdbs)\n",
        "        print(f\"♦ {len(ligands)} ligands extraits\")\n",
        "        ligands_totaux.update(ligands)\n",
        "\n",
        "    ligand_data = [{\n",
        "        \"Structure\": pdb_id,\n",
        "        \"ID\": lig_id.upper(),\n",
        "        \"Nom\": name.title(),\n",
        "        \"Categorie\": classer_ligand_par_mots(name, lig_id)\n",
        "    } for (pdb_id, name, lig_id) in ligands_totaux]\n",
        "\n",
        "    ligand_df = pd.DataFrame(ligand_data)\n",
        "    ligand_df.to_csv(\"ligands_classifies_cif.csv\", index=False)\n",
        "    print(\"✅ Export CSV : ligands_classifies_cif.csv\")\n"
      ]
    },
    {
      "cell_type": "code",
      "execution_count": 13,
      "metadata": {
        "id": "gpjMTWP0CRZP"
      },
      "outputs": [],
      "source": [
        "def filtrer_et_exporter_par_categorie(fichier_csv=\"ligands_classifies_cif.csv\"):\n",
        "    df = pd.read_csv(fichier_csv)\n",
        "    df[\"Nom\"] = df[\"Nom\"].astype(str).str.strip(\"'\").str.strip().str.lower()\n",
        "    df[\"ID\"] = df[\"ID\"].astype(str).str.strip().str.upper()\n",
        "\n",
        "    categories_cibles = [\"Peptide\", \"Nucleotide\", \"Amine\"]\n",
        "    ligands_filtres = df[df[\"Categorie\"].isin(categories_cibles)]\n",
        "\n",
        "    tableau_croise = ligands_filtres.groupby([\"Structure\", \"Categorie\"])[\"ID\"].nunique().unstack(fill_value=0).reset_index()\n",
        "    tableau_croise.to_csv(\"ligands_par_structure_et_categorie.csv\", index=False)\n",
        "    print(\"✅ Export : ligands_par_structure_et_categorie.csv\")\n"
      ]
    },
    {
      "cell_type": "code",
      "execution_count": 14,
      "metadata": {
        "id": "pUNT-l68DIem"
      },
      "outputs": [],
      "source": [
        "def export_structures_par_categorie(input_csv=\"ligands_classifies_cif.csv\"):\n",
        "    df = pd.read_csv(input_csv)\n",
        "    df = df[df[\"Categorie\"].isin([\"Amine\", \"Nucleotide\"])]\n",
        "    df = df.drop_duplicates(subset=[\"Structure\", \"ID\", \"Nom\", \"Categorie\"])\n",
        "    df = df.sort_values(by=\"Structure\")\n",
        "    df.to_csv(\"ligands_amines_nucleotides.csv\", index=False)\n",
        "\n",
        "    ligand_df = df.copy()\n",
        "    pivot_df = ligand_df.pivot_table(index=\"Structure\", columns=\"Categorie\", aggfunc=\"size\", fill_value=0)\n",
        "\n",
        "    structures_nucleotides = pivot_df[pivot_df.get(\"Nucleotide\", 0) > 0].index.tolist()\n",
        "    structures_amines = pivot_df[pivot_df.get(\"Amine\", 0) > 0].index.tolist()\n",
        "    structures_mix = pivot_df[(pivot_df.get(\"Nucleotide\", 0) > 0) & (pivot_df.get(\"Amine\", 0) > 0)].index.tolist()\n",
        "\n",
        "    pd.DataFrame({\"PDB_ID\": structures_nucleotides}).to_csv(\"structures_nucleotides.csv\", index=False)\n",
        "    pd.DataFrame({\"PDB_ID\": structures_amines}).to_csv(\"structures_amines.csv\", index=False)\n",
        "    pd.DataFrame({\"PDB_ID\": structures_mix}).to_csv(\"structures_mix.csv\", index=False)\n",
        "\n",
        "    print(\"✅ Exports générés : structures_nucleotides.csv, structures_amines.csv, structures_mix.csv\")\n"
      ]
    },
    {
      "cell_type": "code",
      "execution_count": 15,
      "metadata": {
        "id": "D-ESQann3JtL"
      },
      "outputs": [],
      "source": [
        "def export_structure_ligand_unique(input_csv=\"ligands_classifies_cif.csv\"):\n",
        "    df = pd.read_csv(input_csv)\n",
        "    df = df[df[\"Categorie\"].isin([\"Amine\", \"Nucleotide\"])]\n",
        "    df = df.drop_duplicates(subset=[\"Structure\", \"ID\", \"Categorie\"])\n",
        "    df = df[[\"Structure\", \"ID\", \"Categorie\"]].rename(columns={\n",
        "        \"Structure\": \"PDB_ID\",\n",
        "        \"ID\": \"Ligand_ID\",\n",
        "        \"Categorie\": \"Categorie\"\n",
        "    })\n",
        "    df.to_csv(\"structure_ligand_principal.csv\", index=False)\n",
        "    print(\"✅ Export : structure_ligand_principal.csv\")"
      ]
    },
    {
      "cell_type": "code",
      "execution_count": 16,
      "metadata": {
        "id": "6d1fg_-63MgV"
      },
      "outputs": [],
      "source": [
        "def extraire_coordonnees_resid_chainid(input_csv=\"structure_ligand_principal.csv\"):\n",
        "    from Bio.PDB import PDBList, PDBParser\n",
        "    df = pd.read_csv(input_csv)\n",
        "    pdbl = PDBList()\n",
        "    parser = PDBParser(QUIET=True)\n",
        "\n",
        "    residues = []\n",
        "    chains = []\n",
        "    os.makedirs(\"pdb_files\", exist_ok=True)\n",
        "\n",
        "    for i, row in df.iterrows():\n",
        "        pdb_id = row[\"PDB_ID\"].lower()\n",
        "        lig_id = row[\"Ligand_ID\"].upper()\n",
        "\n",
        "        try:\n",
        "            pdb_file = pdbl.retrieve_pdb_file(pdb_id, file_format=\"pdb\", pdir=\"./pdb_files\", overwrite=True)\n",
        "            structure = parser.get_structure(pdb_id, pdb_file)\n",
        "            best_residue = None\n",
        "            max_atoms = 0\n",
        "            for model in structure:\n",
        "                for chain in model:\n",
        "                    for residue in chain:\n",
        "                        hetfield = residue.get_id()[0]\n",
        "                        resname = residue.get_resname().strip().upper()\n",
        "                        if hetfield.startswith(\"H_\") and resname == lig_id:\n",
        "                            atom_count = len([a for a in residue])\n",
        "                            if atom_count > max_atoms:\n",
        "                                max_atoms = atom_count\n",
        "                                best_residue = residue\n",
        "            if best_residue:\n",
        "                residues.append(best_residue.get_id()[1])\n",
        "                chains.append(best_residue.get_parent().id)\n",
        "            else:\n",
        "                print(f\"[❗] Ligand {lig_id} non trouvé dans {pdb_id.upper()}\")\n",
        "                residues.append(None)\n",
        "                chains.append(None)\n",
        "        except Exception as e:\n",
        "            print(f\"[Erreur] {pdb_id.upper()} : {e}\")\n",
        "            residues.append(None)\n",
        "            chains.append(None)\n",
        "\n",
        "    df[\"ResID\"] = residues\n",
        "    df[\"ChainID\"] = chains\n",
        "    df.to_csv(\"structure_ligand_principal_with_chainid.csv\", index=False)\n",
        "    print(\"✅ Fichier généré : structure_ligand_principal_with_chainid.csv\")\n"
      ]
    },
    {
      "cell_type": "code",
      "execution_count": 17,
      "metadata": {
        "id": "tzvMGav34NlV"
      },
      "outputs": [],
      "source": [
        "def corriger_coordonnees_manquantes(input_csv=\"structure_ligand_principal_with_chainid.csv\"):\n",
        "    df = pd.read_csv(input_csv)\n",
        "    df_to_fix = df[df[\"ResID\"].isna() | df[\"ChainID\"].isna()].copy()\n",
        "    exclusions = {\"HOH\", \"DOD\", \"SO4\", \"NA\", \"CL\", \"K\", \"MG\", \"CA\", \"ZN\", \"MN\", \"CU\", \"FE\", \"SOG\", \"CLR\", \"OLB\", \"GDP\", \"OLC\", \"OLA\", \"TAR\", \"STE\", \"LMT\", \"PEG\", \"EDO\", \"TRS\", \"GOL\", \"EDT\"}\n",
        "    pdbl = PDBList()\n",
        "    parser = MMCIFParser(QUIET=True)\n",
        "    resids, chains, ligand_ids = [], [], []\n",
        "    for _, row in df_to_fix.iterrows():\n",
        "        pdb_id = row[\"PDB_ID\"].lower()\n",
        "        try:\n",
        "            cif_file = pdbl.retrieve_pdb_file(pdb_id, file_format=\"mmCif\", pdir=\"./cif_files\", overwrite=True)\n",
        "            structure = parser.get_structure(pdb_id, cif_file)\n",
        "            best_residue, max_atoms, best_resname = None, 0, None\n",
        "            for model in structure:\n",
        "                for chain in model:\n",
        "                    for residue in chain:\n",
        "                        hetfield = residue.id[0]\n",
        "                        resname = residue.resname.strip().upper()\n",
        "                        if hetfield.startswith(\"H_\") and resname not in exclusions:\n",
        "                            n_atoms = len([a for a in residue])\n",
        "                            if n_atoms > max_atoms:\n",
        "                                max_atoms = n_atoms\n",
        "                                best_residue = residue\n",
        "                                best_resname = resname\n",
        "            if best_residue:\n",
        "                resids.append(best_residue.id[1])\n",
        "                chains.append(best_residue.get_parent().id)\n",
        "                ligand_ids.append(best_resname)\n",
        "            else:\n",
        "                print(f\"[❗] Aucun ligand valide détecté dans {pdb_id.upper()}\")\n",
        "                resids.append(None)\n",
        "                chains.append(None)\n",
        "                ligand_ids.append(None)\n",
        "        except Exception as e:\n",
        "            print(f\"[Erreur] {pdb_id.upper()} : {e}\")\n",
        "            resids.append(None)\n",
        "            chains.append(None)\n",
        "            ligand_ids.append(None)\n",
        "    df_to_fix[\"ResID\"] = resids\n",
        "    df_to_fix[\"ChainID\"] = chains\n",
        "    df_to_fix[\"Ligand_ID\"] = ligand_ids\n",
        "    df_ok = df.dropna(subset=[\"ResID\", \"ChainID\"])\n",
        "    df_final = pd.concat([df_ok, df_to_fix], ignore_index=True)\n",
        "    df_final.to_csv(\"structure_ligand_principal_corrected_final.csv\", index=False)\n",
        "    print(\"✅ Fichier corrigé généré : structure_ligand_principal_corrected_final.csv\")\n"
      ]
    },
    {
      "cell_type": "code",
      "execution_count": 18,
      "metadata": {
        "id": "BojPnZIO9HP4"
      },
      "outputs": [],
      "source": [
        "def generer_scripts_superposition():\n",
        "    # Chargement du fichier avec ResID et ChainID\n",
        "    df_ligands = pd.read_csv(\"structure_ligand_principal_corrected_final.csv\")\n",
        "\n",
        "    # Fichiers par catégorie\n",
        "    categories = {\n",
        "        \"amines\": \"structures_amines.csv\",\n",
        "        \"nucleotides\": \"structures_nucleotides.csv\",\n",
        "        \"mix\": \"structures_mix.csv\"\n",
        "    }\n",
        "\n",
        "    # Distance de contact\n",
        "    distance_cutoff = 5\n",
        "\n",
        "    for cat, csv_file in categories.items():\n",
        "        df_structures = pd.read_csv(csv_file)\n",
        "        pdb_ids = df_structures[\"PDB_ID\"].dropna().unique()\n",
        "        if len(pdb_ids) == 0:\n",
        "            continue\n",
        "\n",
        "        script_path = f\"superposition_{cat}_with_contacts.pml\"\n",
        "\n",
        "        with open(script_path, \"w\") as f:\n",
        "            f.write(\"reinitialize\\n\")\n",
        "            f.write(\"bg_color white\\n\")\n",
        "            f.write(\"set auto_zoom, off\\n\")\n",
        "\n",
        "            # Structure de référence\n",
        "            ref_id = pdb_ids[0]\n",
        "            try:\n",
        "                ref_row = df_ligands[df_ligands[\"PDB_ID\"] == ref_id].iloc[0]\n",
        "                ref_lig = ref_row[\"Ligand_ID\"]\n",
        "                ref_resi = int(ref_row[\"ResID\"])\n",
        "                ref_chain = ref_row[\"ChainID\"]\n",
        "\n",
        "                f.write(f\"fetch {ref_id}, async=0\\n\")\n",
        "                f.write(f\"set_name {ref_id}, ref_{cat}\\n\")\n",
        "                f.write(f\"hide everything, ref_{cat}\\n\")\n",
        "                f.write(f\"show cartoon, ref_{cat}\\n\")\n",
        "                f.write(f\"color green, ref_{cat}\\n\")\n",
        "                f.write(f\"select ligand_main, ref_{cat} and resn {ref_lig.upper()} and resi {ref_resi} and chain {ref_chain}\\n\")\n",
        "                f.write(f\"show sticks, ligand_main\\n\")\n",
        "                f.write(f\"color red, ligand_main\\n\\n\")\n",
        "            except IndexError:\n",
        "                print(f\"⚠️ Skipped] Pas de correspondance ligand pour structure de référence {ref_id}\")\n",
        "                continue\n",
        "\n",
        "            # Ajout des structures supplémentaires\n",
        "            for i, pdb_id in enumerate(pdb_ids[1:], start=1):\n",
        "                try:\n",
        "                    lig_row = df_ligands[df_ligands[\"PDB_ID\"] == pdb_id].iloc[0]\n",
        "                    lig_id = lig_row[\"Ligand_ID\"]\n",
        "                    lig_resi = int(lig_row[\"ResID\"])\n",
        "                    lig_chain = lig_row[\"ChainID\"]\n",
        "                except IndexError:\n",
        "                    print(f\"⚠️ Skipped] Pas de correspondance ligand pour {pdb_id}\")\n",
        "                    continue\n",
        "\n",
        "                obj = f\"mobile_{cat}_{i}\"\n",
        "                f.write(f\"fetch {pdb_id}, async=0\\n\")\n",
        "                f.write(f\"set_name {pdb_id}, {obj}\\n\")\n",
        "                f.write(f\"align {obj}, ref_{cat}\\n\")\n",
        "                f.write(f\"hide everything, {obj}\\n\")\n",
        "                f.write(f\"show cartoon, {obj}\\n\")\n",
        "                f.write(f\"color tv_orange, {obj}\\n\")\n",
        "                f.write(f\"select ligand_{i}, {obj} and resn {lig_id.upper()} and resi {lig_resi} and chain {lig_chain}\\n\")\n",
        "                f.write(f\"show sticks, ligand_{i}\\n\")\n",
        "                f.write(f\"color red, ligand_{i}\\n\\n\")\n",
        "\n",
        "            # Résidus en contact\n",
        "            f.write(f\"select residues_contact_{cat}, byres (ref_{cat} within {distance_cutoff} of ligand_main and not resn HOH)\\n\")\n",
        "            f.write(f\"show sticks, residues_contact_{cat}\\n\")\n",
        "            f.write(f\"color cyan, residues_contact_{cat}\\n\")\n",
        "            f.write(f\"zoom residues_contact_{cat}\\n\")\n",
        "            f.write(f\"label residues_contact_{cat} and name CA, \\\"%s-%s\\\" % (resn,resi)\\n\\n\")\n",
        "\n",
        "            # Sauvegarde PDB\n",
        "            f.write(\"set retain_order, 1\\n\")\n",
        "            f.write(f\"save contacts_{cat}.pdb, residues_contact_{cat}, format=pdb\\n\")\n",
        "\n",
        "        print(f\"✅ Script généré : {script_path}\")\n"
      ]
    },
    {
      "cell_type": "code",
      "execution_count": 19,
      "metadata": {
        "id": "8EQmULUa_Wom"
      },
      "outputs": [],
      "source": [
        "def extraire_residus_contacts():\n",
        "    parser = PDBParser(QUIET=True)\n",
        "    for cat in [\"amines\", \"nucleotides\"]:\n",
        "        pdb_file = f\"contacts_{cat}.pdb\"\n",
        "        if not os.path.exists(pdb_file):\n",
        "            print(f\"Fichier manquant : {pdb_file}\")\n",
        "            continue\n",
        "        structure = parser.get_structure(cat, pdb_file)\n",
        "        records = []\n",
        "        for model in structure:\n",
        "            for chain in model:\n",
        "                for residue in chain:\n",
        "                    if \"CA\" in residue:\n",
        "                        resname = residue.get_resname()\n",
        "                        resnum = residue.get_id()[1]\n",
        "                        chain_id = chain.id\n",
        "                        records.append((resname, resnum, chain_id))\n",
        "        df = pd.DataFrame(records, columns=[\"ResName\", \"ResID\", \"Chain\"])\n",
        "        df.to_csv(f\"contacts_{cat}.csv\", index=False)\n",
        "        print(f\"Fichier CSV généré : contacts_{cat}.csv\")"
      ]
    },
    {
      "cell_type": "code",
      "execution_count": 20,
      "metadata": {
        "id": "B55I25uL_ZX-"
      },
      "outputs": [],
      "source": [
        "def analyser_contacts_par_categorie():\n",
        "    categories = [\"amines\", \"nucleotides\"]\n",
        "    dfs = []\n",
        "    for cat in categories:\n",
        "        df = pd.read_csv(f\"contacts_{cat}.csv\")\n",
        "        df[\"Catégorie\"] = cat.capitalize()\n",
        "        dfs.append(df)\n",
        "    df_all = pd.concat(dfs, ignore_index=True)\n",
        "    tableau = pd.crosstab(df_all[\"Catégorie\"], df_all[\"ResName\"])\n",
        "    print(\"Tableau croisé Catégorie × Résidu :\")\n",
        "    print(tableau)\n",
        "    chi2, p, dof, expected = chi2_contingency(tableau)\n",
        "    print(\"Test du Chi² :\")\n",
        "    print(f\"Chi² statistic = {chi2:.2f}\")\n",
        "    print(f\"Degrees of freedom = {dof}\")\n",
        "    print(f\"P-value = {p:.4e}\")\n",
        "    if p < 0.05:\n",
        "        print(\"Résultat : Il existe une dépendance significative entre la catégorie du ligand et les résidus de contact.\")\n",
        "    else:\n",
        "        print(\"Résultat : Aucune dépendance significative détectée entre la catégorie du ligand et les résidus de contact.\")"
      ]
    },
    {
      "cell_type": "code",
      "execution_count": 25,
      "metadata": {
        "colab": {
          "base_uri": "https://localhost:8080/"
        },
        "id": "K54v1hT33QTb",
        "outputId": "19ae1052-f055-47ef-adc3-8040b8561a11"
      },
      "outputs": [
        {
          "output_type": "stream",
          "name": "stdout",
          "text": [
            "\n",
            "🔍 Seuil 0.3\n",
            "→ 200 structures récupérées\n",
            "✅ 98 identifiées comme A2A\n",
            "♦ 1310 ligands extraits\n",
            "\n",
            "🔍 Seuil 0.4\n",
            "→ 112 structures récupérées\n",
            "✅ 95 identifiées comme A2A\n",
            "♦ 1296 ligands extraits\n",
            "\n",
            "🔍 Seuil 0.5\n",
            "→ 102 structures récupérées\n",
            "✅ 95 identifiées comme A2A\n",
            "♦ 1296 ligands extraits\n",
            "\n",
            "🔍 Seuil 0.6\n",
            "→ 94 structures récupérées\n",
            "✅ 94 identifiées comme A2A\n",
            "♦ 1273 ligands extraits\n",
            "\n",
            "🔍 Seuil 0.7\n",
            "→ 88 structures récupérées\n",
            "✅ 88 identifiées comme A2A\n",
            "♦ 1249 ligands extraits\n",
            "✅ Export CSV : ligands_classifies_cif.csv\n",
            "✅ Export : ligands_par_structure_et_categorie.csv\n",
            "✅ Exports générés : structures_nucleotides.csv, structures_amines.csv, structures_mix.csv\n",
            "✅ Export : structure_ligand_principal.csv\n",
            "Downloading PDB structure '4ug2'...\n",
            "[❗] Ligand ;2-[P-(2-CARBOXYETHYL)PHENYLETHYL-AMINO]-5'-N-ETHYLCARBOXAMIDO non trouvé dans 4UG2\n",
            "Downloading PDB structure '5n2s'...\n",
            "Downloading PDB structure '4uhr'...\n",
            "[❗] Ligand ;2-[P-(2-CARBOXYETHYL)PHENYLETHYL-AMINO]-5'-N-ETHYLCARBOXAMIDO non trouvé dans 4UHR\n",
            "Downloading PDB structure '3vg9'...\n",
            "Downloading PDB structure '9ee8'...\n",
            "Downloading PDB structure '6zdv'...\n",
            "Downloading PDB structure '6s0l'...\n",
            "Downloading PDB structure '8rw4'...\n",
            "Desired structure doesn't exist\n",
            "[Erreur] 8RW4 : [Errno 2] No such file or directory: './pdb_files/pdb8rw4.ent'\n",
            "Downloading PDB structure '6lpl'...\n",
            "Downloading PDB structure '4bvn'...\n",
            "Downloading PDB structure '8fyn'...\n",
            "Downloading PDB structure '5k2b'...\n",
            "Downloading PDB structure '5om1'...\n",
            "Downloading PDB structure '5olv'...\n",
            "Downloading PDB structure '7px4'...\n",
            "[❗] Ligand ;~{TERT}-BUTYL non trouvé dans 7PX4\n",
            "Downloading PDB structure '5k2d'...\n",
            "Downloading PDB structure '5olz'...\n",
            "Downloading PDB structure '9ee9'...\n",
            "Downloading PDB structure '8gng'...\n",
            "Downloading PDB structure '7t32'...\n",
            "Downloading PDB structure '9eea'...\n",
            "Downloading PDB structure '5g53'...\n",
            "[❗] Ligand 'RNA non trouvé dans 5G53\n",
            "Downloading PDB structure '3rfm'...\n",
            "Downloading PDB structure '8cu6'...\n",
            "Downloading PDB structure '8a2p'...\n",
            "Downloading PDB structure '6zdr'...\n",
            "Downloading PDB structure '3eml'...\n",
            "Downloading PDB structure '3uza'...\n",
            "Downloading PDB structure '8rwc'...\n",
            "Desired structure doesn't exist\n",
            "[Erreur] 8RWC : [Errno 2] No such file or directory: './pdb_files/pdb8rwc.ent'\n",
            "Downloading PDB structure '7rm5'...\n",
            "Downloading PDB structure '6ps7'...\n",
            "Downloading PDB structure '5k2c'...\n",
            "Downloading PDB structure '6lpj'...\n",
            "Downloading PDB structure '5iu8'...\n",
            "Downloading PDB structure '8rln'...\n",
            "Desired structure doesn't exist\n",
            "[Erreur] 8RLN : [Errno 2] No such file or directory: './pdb_files/pdb8rln.ent'\n",
            "Downloading PDB structure '5olh'...\n",
            "Downloading PDB structure '8ugw'...\n",
            "[❗] Ligand ;2-[P-(2-CARBOXYETHYL)PHENYLETHYL-AMINO]-5'-N-ETHYLCARBOXAMIDO non trouvé dans 8UGW\n",
            "Downloading PDB structure '6gt3'...\n",
            "Downloading PDB structure '5nm4'...\n",
            "Downloading PDB structure '6gdg'...\n",
            "[❗] Ligand ;N-ETHYL-5'-CARBOXAMIDO non trouvé dans 6GDG\n",
            "Downloading PDB structure '5nlx'...\n",
            "Downloading PDB structure '6lpk'...\n",
            "Downloading PDB structure '8rvw'...\n",
            "Desired structure doesn't exist\n",
            "[Erreur] 8RVW : [Errno 2] No such file or directory: './pdb_files/pdb8rvw.ent'\n",
            "Downloading PDB structure '5mzp'...\n",
            "Downloading PDB structure '5olo'...\n",
            "Downloading PDB structure '5om4'...\n",
            "Downloading PDB structure '8rwd'...\n",
            "Desired structure doesn't exist\n",
            "[Erreur] 8RWD : [Errno 2] No such file or directory: './pdb_files/pdb8rwd.ent'\n",
            "Downloading PDB structure '8rqq'...\n",
            "Desired structure doesn't exist\n",
            "[Erreur] 8RQQ : [Errno 2] No such file or directory: './pdb_files/pdb8rqq.ent'\n",
            "Downloading PDB structure '7aro'...\n",
            "Downloading PDB structure '3vga'...\n",
            "Downloading PDB structure '6s0q'...\n",
            "Downloading PDB structure '8rw0'...\n",
            "Downloading PDB structure '4eiy'...\n",
            "Downloading PDB structure '8rwh'...\n",
            "Desired structure doesn't exist\n",
            "[Erreur] 8RWH : [Errno 2] No such file or directory: './pdb_files/pdb8rwh.ent'\n",
            "Downloading PDB structure '6jzh'...\n",
            "Downloading PDB structure '3uzc'...\n",
            "Downloading PDB structure '2ydo'...\n",
            "[❗] Ligand NON-POLYMER non trouvé dans 2YDO\n",
            "Downloading PDB structure '6mh8'...\n",
            "Downloading PDB structure '3rey'...\n",
            "Downloading PDB structure '3pwh'...\n",
            "Downloading PDB structure '5nm2'...\n",
            "Downloading PDB structure '5iu4'...\n",
            "Downloading PDB structure '6aqf'...\n",
            "Downloading PDB structure '8du3'...\n",
            "Downloading PDB structure '5iu7'...\n",
            "Downloading PDB structure '4bvn'...\n",
            "Downloading PDB structure '8rwi'...\n",
            "Desired structure doesn't exist\n",
            "[Erreur] 8RWI : [Errno 2] No such file or directory: './pdb_files/pdb8rwi.ent'\n",
            "Downloading PDB structure '5olg'...\n",
            "Downloading PDB structure '5uvi'...\n",
            "Downloading PDB structure '9fup'...\n",
            "Downloading PDB structure '5jtb'...\n",
            "Downloading PDB structure '8rwx'...\n",
            "Desired structure doesn't exist\n",
            "[Erreur] 8RWX : [Errno 2] No such file or directory: './pdb_files/pdb8rwx.ent'\n",
            "Downloading PDB structure '6wqa'...\n",
            "Downloading PDB structure '8cu7'...\n",
            "Downloading PDB structure '5uig'...\n",
            "Downloading PDB structure '5k2a'...\n",
            "Downloading PDB structure '8rw7'...\n",
            "Desired structure doesn't exist\n",
            "[Erreur] 8RW7 : [Errno 2] No such file or directory: './pdb_files/pdb8rw7.ent'\n",
            "Downloading PDB structure '5vra'...\n",
            "Downloading PDB structure '8rwe'...\n",
            "Desired structure doesn't exist\n",
            "[Erreur] 8RWE : [Errno 2] No such file or directory: './pdb_files/pdb8rwe.ent'\n",
            "Downloading PDB structure '8gne'...\n",
            "✅ Fichier généré : structure_ligand_principal_with_chainid.csv\n",
            "Downloading PDB structure '4ug2'...\n",
            "Downloading PDB structure '4uhr'...\n",
            "Downloading PDB structure '8rw4'...\n",
            "Downloading PDB structure '7px4'...\n",
            "Downloading PDB structure '5g53'...\n",
            "Downloading PDB structure '8rwc'...\n",
            "Downloading PDB structure '8rln'...\n",
            "Downloading PDB structure '8ugw'...\n",
            "Downloading PDB structure '6gdg'...\n",
            "Downloading PDB structure '8rvw'...\n",
            "Downloading PDB structure '8rwd'...\n",
            "Downloading PDB structure '8rqq'...\n",
            "Downloading PDB structure '8rwh'...\n",
            "Downloading PDB structure '2ydo'...\n",
            "Downloading PDB structure '8rwi'...\n",
            "Downloading PDB structure '8rwx'...\n",
            "Downloading PDB structure '8rw7'...\n",
            "Downloading PDB structure '8rwe'...\n",
            "✅ Fichier corrigé généré : structure_ligand_principal_corrected_final.csv\n",
            "✅ Script généré : superposition_amines_with_contacts.pml\n",
            "✅ Script généré : superposition_nucleotides_with_contacts.pml\n",
            "Exécuter les scripts PML dans PyMOL pour générer les fichiers PDB (contacts_*.pdb).\n"
          ]
        }
      ],
      "source": [
        "if __name__ == \"__main__\":\n",
        "    main()\n",
        "    filtrer_et_exporter_par_categorie()\n",
        "    export_structures_par_categorie()\n",
        "    export_structure_ligand_unique()\n",
        "    extraire_coordonnees_resid_chainid()\n",
        "    corriger_coordonnees_manquantes()\n",
        "    generer_scripts_superposition()\n",
        "    print(\"Exécuter les scripts PML dans PyMOL pour générer les fichiers PDB (contacts_*.pdb).\")\n"
      ]
    },
    {
      "cell_type": "code",
      "execution_count": 26,
      "metadata": {
        "colab": {
          "base_uri": "https://localhost:8080/"
        },
        "id": "CUcPQ9zeRGTu",
        "outputId": "753d91bd-8a09-4c4b-a4e8-df1531d291e9"
      },
      "outputs": [
        {
          "output_type": "stream",
          "name": "stdout",
          "text": [
            "Fichier CSV généré : contacts_amines.csv\n",
            "Fichier CSV généré : contacts_nucleotides.csv\n",
            "Tableau croisé Catégorie × Résidu :\n",
            "ResName      ALA  ASN  GLU  HIS  ILE  LEU  MET  PHE  SER  THR  TRP  TYR  VAL\n",
            "Catégorie                                                                   \n",
            "Amines         1    2    1    2    1    3    2    1    0    0    1    1    0\n",
            "Nucleotides    1    2    1    2    1    2    2    1    1    1    1    0    1\n",
            "Test du Chi² :\n",
            "Chi² statistic = 4.17\n",
            "Degrees of freedom = 12\n",
            "P-value = 9.8013e-01\n",
            "Résultat : Aucune dépendance significative détectée entre la catégorie du ligand et les résidus de contact.\n"
          ]
        }
      ],
      "source": [
        "    extraire_residus_contacts()\n",
        "    analyser_contacts_par_categorie()"
      ]
    },
    {
      "cell_type": "markdown",
      "metadata": {
        "id": "CBM6RV7BcwvM"
      },
      "source": [
        "# **II. PARTIE 2 : ANALYSE STRUCTURALE ET VISUALISATION**\n",
        "\n",
        "---\n",
        "\n"
      ]
    },
    {
      "cell_type": "markdown",
      "metadata": {
        "id": "LBJ3JSGghQOb"
      },
      "source": []
    },
    {
      "cell_type": "markdown",
      "metadata": {
        "id": "2jItwGkihWrA"
      },
      "source": [
        "======= II - 0.MODULES IMPORTÉS =======\n"
      ]
    },
    {
      "cell_type": "code",
      "execution_count": 27,
      "metadata": {
        "id": "5j2ZydPRhXju"
      },
      "outputs": [],
      "source": [
        "import os\n",
        "import glob\n",
        "import numpy as np\n",
        "import pandas as pd\n",
        "import matplotlib.pyplot as plt\n",
        "import seaborn as sns\n",
        "import MDAnalysis as mda"
      ]
    },
    {
      "cell_type": "markdown",
      "metadata": {
        "id": "B1SsryWnhd2G"
      },
      "source": [
        " ====== II - 1.PARAMÈTRES GLOBAUX ======\n"
      ]
    },
    {
      "cell_type": "code",
      "execution_count": 28,
      "metadata": {
        "id": "HWBNNv5_hehG"
      },
      "outputs": [],
      "source": [
        "CUTOFF = 5.0\n",
        "SEUIL_SPECIFIQUE = 40\n",
        "COMPLEX_DIR = \"pdb_files\"\n",
        "CSV_LIGANDS = \"structure_ligand_principal_corrected_final.csv\"\n",
        "FREQ_LABEL = 90\n",
        "#Afficher les labels dans pyMOL pour les résidus A2A contactés par au moins 90% des ligands"
      ]
    },
    {
      "cell_type": "code",
      "execution_count": 29,
      "metadata": {
        "colab": {
          "base_uri": "https://localhost:8080/"
        },
        "id": "eFDRgVxzwxWX",
        "outputId": "80786fdf-4da3-4a79-eb31-30053f40cc67"
      },
      "outputs": [
        {
          "output_type": "stream",
          "name": "stdout",
          "text": [
            "✅ Tous les fichiers ont été renommés au format A2A_<id>.pdb\n"
          ]
        }
      ],
      "source": [
        "# === Renommer les fichiers `.ent` en `.pdb` ===\n",
        "for fname in os.listdir(COMPLEX_DIR):\n",
        "    if fname.endswith(\".ent\") and fname.startswith(\"pdb\"):\n",
        "        pdb_id = fname[3:-4]\n",
        "        new_name = f\"A2A_{pdb_id}.pdb\"\n",
        "        os.rename(os.path.join(COMPLEX_DIR, fname), os.path.join(COMPLEX_DIR, new_name))\n",
        "\n",
        "print(\"✅ Tous les fichiers ont été renommés au format A2A_<id>.pdb\")"
      ]
    },
    {
      "cell_type": "markdown",
      "metadata": {
        "id": "4nmxkaCNhx75"
      },
      "source": [
        "====== II - 2. CHARGEMENT DES DONNEES LIGAND - STRUCTURE ======"
      ]
    },
    {
      "cell_type": "code",
      "execution_count": 30,
      "metadata": {
        "id": "norxSnw_h46v"
      },
      "outputs": [],
      "source": [
        "ligands_df = pd.read_csv(CSV_LIGANDS)\n",
        "ligands_df[\"PDB_ID\"] = ligands_df[\"PDB_ID\"].str.upper().str.strip()\n",
        "ligands_df[\"Ligand_ID\"] = ligands_df[\"Ligand_ID\"].str.upper().str.strip()\n",
        "ligands_df[\"ChainID\"] = ligands_df[\"ChainID\"].astype(str).str.strip()\n",
        "ligands_df[\"ResID\"] = ligands_df[\"ResID\"].astype(float).astype(int)\n",
        "\n",
        "pdb_files = sorted([os.path.join(COMPLEX_DIR, f) for f in os.listdir(COMPLEX_DIR) if f.endswith(\".pdb\")])"
      ]
    },
    {
      "cell_type": "markdown",
      "metadata": {
        "id": "57BLLFv7iVlj"
      },
      "source": [
        "====== II - 3.EXTRACTION DES DISTANCES (2 étapes) ======\n",
        "\n",
        "Création de deux matrices de distance (minimale et moyenne)"
      ]
    },
    {
      "cell_type": "code",
      "execution_count": 31,
      "metadata": {
        "colab": {
          "base_uri": "https://localhost:8080/"
        },
        "id": "wczvHWe6h7FF",
        "outputId": "3d57d2b1-f782-44fa-bcfe-19c5c91e70b4"
      },
      "outputs": [
        {
          "output_type": "stream",
          "name": "stderr",
          "text": [
            "/usr/local/lib/python3.11/dist-packages/MDAnalysis/coordinates/PDB.py:453: UserWarning: 1 A^3 CRYST1 record, this is usually a placeholder. Unit cell dimensions will be set to None.\n",
            "  warnings.warn(\"1 A^3 CRYST1 record,\"\n"
          ]
        },
        {
          "output_type": "stream",
          "name": "stdout",
          "text": [
            "✅ Distances min et moyennes enregistrées.\n"
          ]
        }
      ],
      "source": [
        "def extract_pdb_id(pdb_filename):\n",
        "    return os.path.basename(pdb_filename).replace(\".pdb\", \"\").split(\"_\")[1].upper()\n",
        "\n",
        "ligand_names, all_residues = [], set()\n",
        "\n",
        "# Étape 1 : collecter tous les résidus contactés\n",
        "for pdb_path in pdb_files:\n",
        "    pdb_id = extract_pdb_id(pdb_path)\n",
        "    ligand_row = ligands_df[ligands_df[\"PDB_ID\"] == pdb_id]\n",
        "    if ligand_row.empty: continue\n",
        "    ligand_row = ligand_row.iloc[0]\n",
        "    ligand_id, resid, chain = ligand_row[\"Ligand_ID\"], int(ligand_row[\"ResID\"]), ligand_row[\"ChainID\"]\n",
        "    try:\n",
        "        u = mda.Universe(pdb_path)\n",
        "        ligand = u.select_atoms(f\"resname {ligand_id} and resid {resid} and segid {chain}\")\n",
        "        if len(ligand) == 0: continue\n",
        "        prot = u.select_atoms(\"protein\")\n",
        "        for res in prot.residues:\n",
        "            dists = np.linalg.norm(res.atoms.positions[:, None] - ligand.positions, axis=2)\n",
        "            if np.any(dists <= CUTOFF):\n",
        "                all_residues.add((res.resname, res.resid))\n",
        "        ligand_names.append(f\"{pdb_id}_{ligand_id}\")\n",
        "    except:\n",
        "        continue\n",
        "\n",
        "res_labels = [f\"{r[0]}-{r[1]}\" for r in sorted(all_residues, key=lambda x: x[1])]\n",
        "min_matrix, mean_matrix = [], []\n",
        "\n",
        "# Étape 2 : calculer les distances\n",
        "for pdb_path in pdb_files:\n",
        "    pdb_id = extract_pdb_id(pdb_path)\n",
        "    ligand_row = ligands_df[ligands_df[\"PDB_ID\"] == pdb_id]\n",
        "    if ligand_row.empty: continue\n",
        "    ligand_row = ligand_row.iloc[0]\n",
        "    ligand_id, resid, chain = ligand_row[\"Ligand_ID\"], int(ligand_row[\"ResID\"]), ligand_row[\"ChainID\"]\n",
        "    try:\n",
        "        u = mda.Universe(pdb_path)\n",
        "        ligand = u.select_atoms(f\"resname {ligand_id} and resid {resid} and segid {chain}\")\n",
        "        if len(ligand) == 0: continue\n",
        "        prot = u.select_atoms(\"protein\")\n",
        "        min_row, mean_row = [], []\n",
        "        for resn, resi in sorted(all_residues, key=lambda x: x[1]):\n",
        "            atoms = prot.select_atoms(f\"resname {resn} and resid {resi}\")\n",
        "            if len(atoms) == 0:\n",
        "                min_row.append(np.nan)\n",
        "                mean_row.append(np.nan)\n",
        "            else:\n",
        "                dists = np.linalg.norm(atoms.positions[:, None] - ligand.positions, axis=2)\n",
        "                min_row.append(np.min(dists))\n",
        "                mean_row.append(np.mean(dists))\n",
        "        min_matrix.append(min_row)\n",
        "        mean_matrix.append(mean_row)\n",
        "    except:\n",
        "        continue\n",
        "\n",
        "df_min = pd.DataFrame(min_matrix, index=ligand_names, columns=res_labels)\n",
        "df_mean = pd.DataFrame(mean_matrix, index=ligand_names, columns=res_labels)\n",
        "df_min.to_csv(\"ligand_residue_min.csv\")\n",
        "df_mean.to_csv(\"ligand_residue_mean.csv\")\n",
        "print(\"✅ Distances min et moyennes enregistrées.\")"
      ]
    },
    {
      "cell_type": "code",
      "execution_count": 32,
      "metadata": {
        "id": "zrusCY0ODcpT"
      },
      "outputs": [],
      "source": [
        "# === Ajout des catégories depuis le fichier de référence\n",
        "df_meta = pd.read_csv(CSV_LIGANDS)\n",
        "df_meta[\"Full_ID\"] = df_meta[\"PDB_ID\"].str.upper().str.strip() + \"_\" + df_meta[\"Ligand_ID\"].str.upper().str.strip()\n",
        "df_meta = df_meta.set_index(\"Full_ID\")\n",
        "df_min[\"Catégorie\"] = df_min.index.map(lambda x: df_meta.loc[x, \"Categorie\"] if x in df_meta.index else \"Inconnu\")"
      ]
    },
    {
      "cell_type": "markdown",
      "metadata": {
        "id": "PrS9iiOmirJN"
      },
      "source": [
        "====== II - 4.HEATMAP GLOBALE (2 colonnes) ======"
      ]
    },
    {
      "cell_type": "code",
      "execution_count": 33,
      "metadata": {
        "id": "4Ti1f8CziwrU"
      },
      "outputs": [],
      "source": [
        "plt.figure(figsize=(18, 8))\n",
        "plt.subplot(1, 2, 1)\n",
        "sns.heatmap(df_min.drop(\"Catégorie\", axis=1), cmap=\"Blues_r\", vmin=0, vmax=8)\n",
        "plt.title(\"Distances minimales (contacts directs)\")\n",
        "plt.subplot(1, 2, 2)\n",
        "sns.heatmap(df_mean, cmap=\"Reds_r\", vmin=0, vmax=10)\n",
        "plt.title(\"Distances moyennes (exposition globale)\")\n",
        "plt.tight_layout()\n",
        "plt.savefig(\"heatmaps_min_mean_inverses.png\", dpi=300)\n",
        "plt.close()"
      ]
    },
    {
      "cell_type": "code",
      "execution_count": 34,
      "metadata": {
        "id": "WBGQ8cZREbII"
      },
      "outputs": [],
      "source": [
        "df_min_clean = df_min.drop(\"Catégorie\", axis=1).fillna(10)\n",
        "df_mean_clean = df_mean.fillna(10)\n",
        "\n",
        "plt.figure(figsize=(18, 8))\n",
        "plt.subplot(1, 2, 1)\n",
        "sns.heatmap(df_min_clean, cmap=\"Blues_r\", vmin=0, vmax=8)\n",
        "plt.title(\"Distances minimales (contacts directs)\")\n",
        "plt.subplot(1, 2, 2)\n",
        "sns.heatmap(df_mean_clean, cmap=\"Reds_r\", vmin=0, vmax=10)\n",
        "plt.title(\"Distances moyennes (exposition globale)\")\n",
        "plt.tight_layout()\n",
        "plt.savefig(\"heatmaps_min_mean_inverses.png\", dpi=300)\n",
        "plt.close()"
      ]
    },
    {
      "cell_type": "markdown",
      "metadata": {
        "id": "TyRWWBNNirRg"
      },
      "source": [
        "====== II - 5.TOP 30 RESIDUS LES PLUS FREQUEMMENT CONTACTES ======"
      ]
    },
    {
      "cell_type": "code",
      "execution_count": 35,
      "metadata": {
        "id": "TfMifZGfi6pW"
      },
      "outputs": [],
      "source": [
        "top_residues = (df_min.drop(\"Catégorie\", axis=1) <= 5).sum(axis=0).sort_values(ascending=False).head(30).index\n",
        "plt.figure(figsize=(20, 10))\n",
        "plt.subplot(1, 2, 1)\n",
        "sns.heatmap(df_min[top_residues], cmap=\"mako\", vmin=0, vmax=8)\n",
        "plt.title(\"Top 30 – Distances minimales\")\n",
        "plt.subplot(1, 2, 2)\n",
        "sns.heatmap(df_mean[top_residues], cmap=\"rocket\", vmin=0, vmax=10)\n",
        "plt.title(\"Top 30 – Distances moyennes\")\n",
        "plt.tight_layout()\n",
        "plt.savefig(\"heatmap_top30_structures_inverted.png\", dpi=300)\n",
        "plt.close()"
      ]
    },
    {
      "cell_type": "markdown",
      "metadata": {
        "id": "QFZUvlOLirWx"
      },
      "source": [
        "====== II - 6.MOYENNE DES DISTANCES PAR CATEGORIE ======"
      ]
    },
    {
      "cell_type": "code",
      "execution_count": 37,
      "metadata": {
        "colab": {
          "base_uri": "https://localhost:8080/",
          "height": 211
        },
        "id": "IoIwxZSECLxW",
        "outputId": "88d183dd-e7ea-4dd3-9371-1ba6fb91f00b"
      },
      "outputs": [
        {
          "output_type": "error",
          "ename": "NameError",
          "evalue": "name 'df_cat' is not defined",
          "traceback": [
            "\u001b[0;31m---------------------------------------------------------------------------\u001b[0m",
            "\u001b[0;31mNameError\u001b[0m                                 Traceback (most recent call last)",
            "\u001b[0;32m<ipython-input-37-ed9dcea28fe8>\u001b[0m in \u001b[0;36m<cell line: 0>\u001b[0;34m()\u001b[0m\n\u001b[1;32m      1\u001b[0m \u001b[0;31m# Remplacer les NaN par une valeur élevée (par ex. 10.0 Å)\u001b[0m\u001b[0;34m\u001b[0m\u001b[0;34m\u001b[0m\u001b[0m\n\u001b[0;32m----> 2\u001b[0;31m \u001b[0mdf_cat_filled\u001b[0m \u001b[0;34m=\u001b[0m \u001b[0mdf_cat\u001b[0m\u001b[0;34m.\u001b[0m\u001b[0mfillna\u001b[0m\u001b[0;34m(\u001b[0m\u001b[0;36m10.0\u001b[0m\u001b[0;34m)\u001b[0m\u001b[0;34m\u001b[0m\u001b[0;34m\u001b[0m\u001b[0m\n\u001b[0m\u001b[1;32m      3\u001b[0m \u001b[0;34m\u001b[0m\u001b[0m\n\u001b[1;32m      4\u001b[0m \u001b[0;31m# Affichage de la heatmap\u001b[0m\u001b[0;34m\u001b[0m\u001b[0;34m\u001b[0m\u001b[0m\n\u001b[1;32m      5\u001b[0m \u001b[0mplt\u001b[0m\u001b[0;34m.\u001b[0m\u001b[0mfigure\u001b[0m\u001b[0;34m(\u001b[0m\u001b[0mfigsize\u001b[0m\u001b[0;34m=\u001b[0m\u001b[0;34m(\u001b[0m\u001b[0;36m18\u001b[0m\u001b[0;34m,\u001b[0m \u001b[0;36m5\u001b[0m\u001b[0;34m)\u001b[0m\u001b[0;34m)\u001b[0m\u001b[0;34m\u001b[0m\u001b[0;34m\u001b[0m\u001b[0m\n",
            "\u001b[0;31mNameError\u001b[0m: name 'df_cat' is not defined"
          ]
        }
      ],
      "source": [
        "# Remplacer les NaN par une valeur élevée (par ex. 10.0 Å)\n",
        "df_cat_filled = df_cat.fillna(10.0)\n",
        "\n",
        "# Affichage de la heatmap\n",
        "plt.figure(figsize=(18, 5))\n",
        "sns.heatmap(df_cat_filled, cmap=\"RdYlBu\", vmin=0, vmax=10)\n",
        "plt.title(\"Distances moyennes par catégorie (0–10 Å, rouge = contact rapproché)\")\n",
        "plt.xlabel(\"Résidus\")\n",
        "plt.ylabel(\"Catégorie\")\n",
        "plt.tight_layout()\n",
        "plt.savefig(\"heatmap_categorie_vs_residus.png\", dpi=300)\n",
        "plt.close()"
      ]
    },
    {
      "cell_type": "markdown",
      "metadata": {
        "id": "ZImbEp4hiraw"
      },
      "source": [
        "====== II - 7.BINARISATION et POURCENTAGE DE CONTACT ======"
      ]
    },
    {
      "cell_type": "code",
      "execution_count": 38,
      "metadata": {
        "id": "MREOjaO_FONc"
      },
      "outputs": [],
      "source": [
        "# === 1. Charger la matrice de distances minimales\n",
        "df_min = pd.read_csv(\"ligand_residue_min.csv\", index_col=0)\n"
      ]
    },
    {
      "cell_type": "code",
      "execution_count": 39,
      "metadata": {
        "id": "2yUfqSrZHRbV"
      },
      "outputs": [],
      "source": [
        "# === 2. Ajouter la colonne \"Catégorie\" depuis le fichier metadata\n",
        "df_meta = pd.read_csv(\"structure_ligand_principal_corrected_final.csv\")\n",
        "df_meta[\"Full_ID\"] = df_meta[\"PDB_ID\"].str.upper().str.strip() + \"_\" + df_meta[\"Ligand_ID\"].str.upper().str.strip()\n",
        "df_meta = df_meta.set_index(\"Full_ID\")\n",
        "df_min[\"Catégorie\"] = df_min.index.map(lambda x: df_meta.loc[x, \"Categorie\"] if x in df_meta.index else \"Inconnu\")\n"
      ]
    },
    {
      "cell_type": "code",
      "execution_count": 40,
      "metadata": {
        "colab": {
          "base_uri": "https://localhost:8080/"
        },
        "id": "rYgo2j-fHVhW",
        "outputId": "82f4c47f-a997-4949-cdc0-6a85c474ba1d"
      },
      "outputs": [
        {
          "output_type": "stream",
          "name": "stdout",
          "text": [
            "✅ ligand_residue_binary.csv sauvegardé\n"
          ]
        }
      ],
      "source": [
        "# === 3. Binarisation des distances\n",
        "df_bin = (df_min.drop(\"Catégorie\", axis=1) <= SEUIL_CONTACT).astype(int)\n",
        "df_bin[\"Catégorie\"] = df_min[\"Catégorie\"]\n",
        "df_bin.drop(\"Catégorie\", axis=1).to_csv(\"ligand_residue_binary.csv\")\n",
        "print(\"✅ ligand_residue_binary.csv sauvegardé\")\n"
      ]
    },
    {
      "cell_type": "code",
      "execution_count": 41,
      "metadata": {
        "colab": {
          "base_uri": "https://localhost:8080/"
        },
        "id": "hbXYIFAlHhCg",
        "outputId": "3de72b45-40c2-4e50-e42f-8ea10f42e09b"
      },
      "outputs": [
        {
          "output_type": "stream",
          "name": "stdout",
          "text": [
            "✅ residus_pourcentages_par_categorie.csv sauvegardé\n"
          ]
        }
      ],
      "source": [
        "# === 4. Calcul des pourcentages par catégorie\n",
        "residus = df_bin.columns.drop(\"Catégorie\")\n",
        "table_pct = pd.DataFrame(index=residus)\n",
        "\n",
        "for cat in [\"Amine\", \"Nucleotide\"]:\n",
        "    sous_df = df_bin[df_bin[\"Catégorie\"].str.lower() == cat.lower()].drop(\"Catégorie\", axis=1)\n",
        "    if not sous_df.empty:\n",
        "        table_pct[cat] = sous_df.sum(axis=0) / len(sous_df) * 100\n",
        "    else:\n",
        "        table_pct[cat] = 0\n",
        "\n",
        "table_pct.to_csv(\"residus_pourcentages_par_categorie.csv\")\n",
        "print(\"✅ residus_pourcentages_par_categorie.csv sauvegardé\")\n"
      ]
    },
    {
      "cell_type": "code",
      "execution_count": 42,
      "metadata": {
        "id": "d33OpyMKHhAq"
      },
      "outputs": [],
      "source": [
        "# === 5. Résidus spécifiques et partagés\n",
        "amines = set(table_pct[table_pct[\"Amine\"] >= SEUIL_SPECIFIQUE].index)\n",
        "nucleotides = set(table_pct[table_pct[\"Nucleotide\"] >= SEUIL_SPECIFIQUE].index)\n",
        "partages = amines & nucleotides"
      ]
    },
    {
      "cell_type": "code",
      "execution_count": 43,
      "metadata": {
        "colab": {
          "base_uri": "https://localhost:8080/",
          "height": 236
        },
        "id": "YqdkIh7aHgsa",
        "outputId": "b000189f-b79f-411d-836e-bd5095b3e0aa"
      },
      "outputs": [
        {
          "output_type": "display_data",
          "data": {
            "text/plain": [
              "<Figure size 1600x500 with 1 Axes>"
            ],
            "image/png": "[encoded data removed]"
          },
          "metadata": {}
        },
        {
          "output_type": "stream",
          "name": "stdout",
          "text": [
            "✅ Barplot enregistré\n"
          ]
        }
      ],
      "source": [
        "# === 6. Barplot\n",
        "df_all = pd.concat([\n",
        "    table_pct.loc[list(amines - nucleotides)].assign(Groupe=\"Spécifique amines\", Fréquence=lambda x: x[\"Amine\"]),\n",
        "    table_pct.loc[list(nucleotides - amines)].assign(Groupe=\"Spécifique nucléotides\", Fréquence=lambda x: x[\"Nucleotide\"]),\n",
        "    table_pct.loc[list(partages)].assign(Groupe=\"Partagés\", Fréquence=lambda x: x[[\"Amine\", \"Nucleotide\"]].mean(axis=1))\n",
        "])\n",
        "df_all = df_all.reset_index().rename(columns={\"index\": \"Résidu\"})\n",
        "\n",
        "plt.figure(figsize=(16, 5))\n",
        "sns.barplot(data=df_all, x=\"Résidu\", y=\"Fréquence\", hue=\"Groupe\")\n",
        "plt.xticks(rotation=90)\n",
        "plt.title(\"Fréquence de contact des résidus spécifiques et partagés (≥ 40%)\")\n",
        "plt.ylabel(\"Fréquence (%)\")\n",
        "plt.xlabel(\"Résidus\")\n",
        "plt.tight_layout()\n",
        "plt.savefig(\"barplot_valeurs_affichees.png\", dpi=300)\n",
        "plt.show()\n",
        "print(\"✅ Barplot enregistré\")"
      ]
    },
    {
      "cell_type": "markdown",
      "metadata": {
        "id": "pe447BGWireq"
      },
      "source": [
        "====== II - 8.RESIDUS SPECIFIQUES ======"
      ]
    },
    {
      "cell_type": "code",
      "execution_count": 44,
      "metadata": {
        "id": "wMROniihkV0o"
      },
      "outputs": [],
      "source": [
        "amines = set(table_pct[table_pct[\"Amine\"] >= SEUIL_SPECIFIQUE].index)\n",
        "nucleotides = set(table_pct[table_pct[\"Nucleotide\"] >= SEUIL_SPECIFIQUE].index)\n",
        "partages = amines & nucleotides"
      ]
    },
    {
      "cell_type": "markdown",
      "metadata": {
        "id": "L8RSB3DBkWLr"
      },
      "source": [
        "====== II - 9.HEATMAP COMPARATIVE DES FREQUENCES ======"
      ]
    },
    {
      "cell_type": "code",
      "execution_count": 45,
      "metadata": {
        "id": "7OZ9MGRakk5c"
      },
      "outputs": [],
      "source": [
        "plt.figure(figsize=(20, 6))\n",
        "sns.heatmap(table_pct.T, cmap=\"coolwarm\")  # annot supprimé\n",
        "plt.title(\"Comparaison des résidus en contact par catégorie\")\n",
        "plt.tight_layout()\n",
        "plt.savefig(\"heatmap_frequence_contacts_categorie.png\", dpi=300)\n",
        "plt.close()"
      ]
    },
    {
      "cell_type": "code",
      "execution_count": 46,
      "metadata": {
        "colab": {
          "base_uri": "https://localhost:8080/"
        },
        "id": "B4KGa3Qf69Ni",
        "outputId": "108c98ea-36f0-4cbc-c0d7-a1c8babac5ff"
      },
      "outputs": [
        {
          "output_type": "stream",
          "name": "stdout",
          "text": [
            "Amines spécifiques : ['HIS-264', 'TYR-271', 'LEU-267']\n",
            "Nucléotides spécifiques : ['HIS-278', 'SER-277', 'ALA-63', 'THR-88', 'LEU-167']\n",
            "Partagés : ['MET-174', 'GLU-169', 'PHE-168', 'TRP-246', 'MET-177', 'ASN-181', 'MET-270', 'ILE-274', 'HIS-250', 'LEU-85', 'LEU-249', 'ASN-253', 'ILE-66', 'VAL-84']\n"
          ]
        }
      ],
      "source": [
        "print(\"Amines spécifiques :\", list(amines - nucleotides))\n",
        "print(\"Nucléotides spécifiques :\", list(nucleotides - amines))\n",
        "print(\"Partagés :\", list(partages))\n"
      ]
    },
    {
      "cell_type": "markdown",
      "metadata": {
        "id": "dvUBO8__m1fv"
      },
      "source": [
        "# **III. PARTIE 3 : VISUALISATION PyMOL**\n",
        "\n",
        "---"
      ]
    },
    {
      "cell_type": "markdown",
      "metadata": {
        "id": "2UvS81g7ocUn"
      },
      "source": [
        "====== III - 1.COLORATION DES RESIDUS CONSENSUS (≥ 40% des ligands)[texte du lien"
      ]
    },
    {
      "cell_type": "code",
      "execution_count": 47,
      "metadata": {
        "colab": {
          "base_uri": "https://localhost:8080/"
        },
        "id": "WBPd8A6osIKy",
        "outputId": "69a8857a-e5d2-4ba5-d11b-6cfd1735939f"
      },
      "outputs": [
        {
          "output_type": "stream",
          "name": "stdout",
          "text": [
            "✅ Script PyMOL sauvegardé : coloration_consensus.pml\n"
          ]
        }
      ],
      "source": [
        "\n",
        "df_bin = pd.read_csv(\"ligand_residue_binary.csv\", index_col=0)\n",
        "nb_ligands = len(df_bin)\n",
        "seuil = int(SEUIL_CONSENSUS * nb_ligands)\n",
        "residus_consensus = df_bin.sum(axis=0)[lambda x: x >= seuil].index.tolist()\n",
        "\n",
        "with open(\"coloration_consensus.pml\", \"w\") as f:\n",
        "    f.write(\"reinitialize\\n\")\n",
        "    f.write(\"load A2A_peptide1.pdb, A2A\\n\")\n",
        "    f.write(\"hide everything, A2A\\n\")\n",
        "    f.write(\"show cartoon, A2A\\n\")\n",
        "    f.write(\"color gray, A2A\\n\")\n",
        "    for res in residus_consensus:\n",
        "        resn, resid = res.split(\"-\")\n",
        "        f.write(f\"color red, (A2A and resi {resid} and resn {resn})\\n\")\n",
        "\n",
        "print(\"✅ Script PyMOL sauvegardé : coloration_consensus.pml\")\n"
      ]
    },
    {
      "cell_type": "markdown",
      "metadata": {
        "id": "RIi-Li5ttECO"
      },
      "source": [
        "====== III - 2.COLORATION DES RESIDUS CONSENSUS avec gradient fréquentiel\n",
        "\n",
        "Value : fréquence normalisée entre 0 (rarement en contact) et 1 (résidus très fréquemment en contact). Transformation de cette valeur en une couleur (R,G,B) dans PyMOL.\n",
        "\n",
        "bleu → résidu très rarement en contact.\n",
        "violet → résidu modérement en contact\n",
        "rouge → résidu très fréquemment en contact.\n",
        "\n",
        "\n"
      ]
    },
    {
      "cell_type": "code",
      "execution_count": 48,
      "metadata": {
        "colab": {
          "base_uri": "https://localhost:8080/"
        },
        "id": "evzs3m0stDUU",
        "outputId": "f779bc48-62bc-4d70-9fd4-3b2403680ec4"
      },
      "outputs": [
        {
          "output_type": "stream",
          "name": "stdout",
          "text": [
            "✅ coloration_frequence_gradient.pml généré\n"
          ]
        }
      ],
      "source": [
        "# === 8. Fichier PyMOL - gradient fréquentiel\n",
        "df = table_pct.copy()\n",
        "df[\"Moyenne\"] = df[[\"Amine\", \"Nucleotide\"]].mean(axis=1)\n",
        "df[\"Norm\"] = (df[\"Moyenne\"] - df[\"Moyenne\"].min()) / (df[\"Moyenne\"].max() - df[\"Moyenne\"].min())\n",
        "\n",
        "def map_color(value):\n",
        "    r = value\n",
        "    g = 0.3 * (1 - value)\n",
        "    b = 1 - value\n",
        "    return f\"[{r:.2f}, {g:.2f}, {b:.2f}]\"\n",
        "\n",
        "lines = [\"reinitialize\", \"load A2A_peptide1.pdb, A2A\", \"hide everything, A2A\", \"show cartoon, A2A\", \"color gray, A2A\"]\n",
        "used_colors = set()\n",
        "\n",
        "for residue, row in df.iterrows():\n",
        "    if \"-\" not in residue: continue\n",
        "    resn, resid = residue.split(\"-\")\n",
        "    norm = row[\"Norm\"]\n",
        "    cname = f\"grad_{int(norm*100)}\"\n",
        "    if cname not in used_colors:\n",
        "        lines.append(f\"set_color {cname}, {map_color(norm)}\")\n",
        "        used_colors.add(cname)\n",
        "    lines.append(f\"color {cname}, (A2A and resi {resid} and resn {resn})\")\n",
        "\n",
        "with open(\"coloration_frequence_gradient.pml\", \"w\") as f:\n",
        "    f.write(\"\\n\".join(lines))\n",
        "\n",
        "print(\"✅ coloration_frequence_gradient.pml généré\")"
      ]
    },
    {
      "cell_type": "markdown",
      "metadata": {
        "id": "kNWsNQ4TtLca"
      },
      "source": [
        "====== III - 1.COLORATION DES RESIDUS CONSENSUS (≥ 40% des ligands)[texte du lien"
      ]
    },
    {
      "cell_type": "code",
      "execution_count": 49,
      "metadata": {
        "colab": {
          "base_uri": "https://localhost:8080/"
        },
        "id": "11PtmfqitNIR",
        "outputId": "16420c17-3af9-4655-ba17-0e1dfa295910"
      },
      "outputs": [
        {
          "output_type": "stream",
          "name": "stdout",
          "text": [
            "✅ cartographie_epuree_labels.pml généré avec labels\n"
          ]
        }
      ],
      "source": [
        "# === 9. Fichier PyMOL - spécifique/partagés avec labels\n",
        "colors = {\"Amines\": \"deepskyblue\", \"Nucleotide\": \"forest\", \"Partagés\": \"gold\"}\n",
        "df_all[\"Groupe\"] = df_all[\"Groupe\"].replace({\n",
        "    \"Spécifique amines\": \"Amines\",\n",
        "    \"Spécifique nucléotides\": \"Nucleotide\"\n",
        "})\n",
        "\n",
        "lines = [\"reinitialize\", \"load A2A_peptide1.pdb, A2A\", \"hide everything, A2A\", \"show cartoon, A2A\", \"color gray, A2A\"]\n",
        "\n",
        "for _, row in df_all.iterrows():\n",
        "    resn, resid = row[\"Résidu\"].split(\"-\")\n",
        "    color = colors[row[\"Groupe\"]]\n",
        "    lines.append(f\"color {color}, (A2A and resi {resid} and resn {resn})\")\n",
        "    lines.append(f\"show sticks, (A2A and resi {resid} and resn {resn})\")\n",
        "    if row[\"Fréquence\"] >= FREQ_LABEL:\n",
        "        lines.append(f\"label (A2A and resi {resid} and resn {resn}), \\\"{row['Résidu']}\\\"\")\n",
        "\n",
        "with open(\"cartographie_epuree_labels.pml\", \"w\") as f:\n",
        "    f.write(\"\\n\".join(lines))\n",
        "\n",
        "print(\"✅ cartographie_epuree_labels.pml généré avec labels\")"
      ]
    }
  ],
  "metadata": {
    "colab": {
      "provenance": [],
      "include_colab_link": true
    },
    "kernelspec": {
      "display_name": "Python 3",
      "name": "python3"
    },
    "language_info": {
      "name": "python"
    }
  },
  "nbformat": 4,
  "nbformat_minor": 0
}